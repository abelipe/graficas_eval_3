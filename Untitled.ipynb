{
 "cells": [
  {
   "cell_type": "code",
   "execution_count": 26,
   "id": "5394dc2b-ae96-4dac-b61f-72d775087c6f",
   "metadata": {},
   "outputs": [
    {
     "name": "stdout",
     "output_type": "stream",
     "text": [
      "Any[4.0, 1.0, -2.0]"
     ]
    }
   ],
   "source": [
    "using CSV\n",
    "using DataFrames\n",
    "#importacion de datos\n",
    "\n",
    "data = DataFrame(CSV.File(\"data1.csv\"))\n",
    "\n",
    "filas= []\n",
    "\n",
    "for fila in eachrow(data)\n",
    "    push!(filas, Vector(fila)) #volvemos cada dato en un vector para poder manipularlo correctamente\n",
    "end\n",
    "\n",
    "function primeros3(x) #funcion para obtener los primeros 3 valores de la dataframe ya que existen 0's en la data\n",
    "    valores = [] #creamos un arreglo vacio para guardar los primeros 3 valores\n",
    "    j = 0 #contador para saber cuantos valores hemos guardado\n",
    "    for i in x\n",
    "        if j < 3\n",
    "            push!(valores, i) #guardamos el valor en el arreglo\n",
    "        end\n",
    "        j += 1\n",
    "    end\n",
    "    return valores #retornamos el arreglo con los primeros 3 valores\n",
    "end\n",
    "\n",
    "#Problema 1\n",
    "\n",
    "x_data1 = filas[1]\n",
    "y_data1 = filas[2]\n",
    "x_vals1 = primeros3(filas[3])\n",
    "\n",
    "#Problema 2\n",
    "\n",
    "x_data2 = filas[4]\n",
    "y_data2 = filas[5]\n",
    "x_vals2 = primeros3(filas[6])\n",
    "\n",
    "#Problema 4\n",
    "\n",
    "A = primeros3(filas[7]), primeros3(filas[8]), primeros3(filas[9])\n",
    "b = primeros3(filas[10])\n"
   ]
  },
  {
   "cell_type": "code",
   "execution_count": 2,
   "id": "c2ed16f9-e50f-42a1-9cae-ae9c41cb6d1c",
   "metadata": {},
   "outputs": [],
   "source": []
  }
 ],
 "metadata": {
  "kernelspec": {
   "display_name": "Julia 1.10.3",
   "language": "julia",
   "name": "julia-1.10"
  },
  "language_info": {
   "file_extension": ".jl",
   "mimetype": "application/julia",
   "name": "julia",
   "version": "1.10.3"
  }
 },
 "nbformat": 4,
 "nbformat_minor": 5
}
