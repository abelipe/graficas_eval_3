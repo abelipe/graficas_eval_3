{
 "cells": [
  {
   "cell_type": "code",
   "execution_count": 8,
   "id": "5394dc2b-ae96-4dac-b61f-72d775087c6f",
   "metadata": {},
   "outputs": [
    {
     "name": "stdout",
     "output_type": "stream",
     "text": [
      "Vector{DataFrameRow{DataFrame, DataFrames.Index}}[[\u001b[1mDataFrameRow\u001b[0m\n",
      "\u001b[1m Row \u001b[0m│\u001b[1m data1   \u001b[0m\u001b[1m data2   \u001b[0m\u001b[1m data3   \u001b[0m\u001b[1m data4   \u001b[0m\u001b[1m data5   \u001b[0m\u001b[1m data6   \u001b[0m\n",
      "     │\u001b[90m Float64 \u001b[0m\u001b[90m Float64 \u001b[0m\u001b[90m Float64 \u001b[0m\u001b[90m Float64 \u001b[0m\u001b[90m Float64 \u001b[0m\u001b[90m Float64 \u001b[0m\n",
      "─────┼──────────────────────────────────────────────────────\n",
      "   7 │     1.0      2.0      1.0      0.0      0.0      0.0], [\u001b[1mDataFrameRow\u001b[0m\n",
      "\u001b[1m Row \u001b[0m│\u001b[1m data1   \u001b[0m\u001b[1m data2   \u001b[0m\u001b[1m data3   \u001b[0m\u001b[1m data4   \u001b[0m\u001b[1m data5   \u001b[0m\u001b[1m data6   \u001b[0m\n",
      "     │\u001b[90m Float64 \u001b[0m\u001b[90m Float64 \u001b[0m\u001b[90m Float64 \u001b[0m\u001b[90m Float64 \u001b[0m\u001b[90m Float64 \u001b[0m\u001b[90m Float64 \u001b[0m\n",
      "─────┼──────────────────────────────────────────────────────\n",
      "   8 │     2.0     -1.0      1.0      0.0      0.0      0.0], [\u001b[1mDataFrameRow\u001b[0m\n",
      "\u001b[1m Row \u001b[0m│\u001b[1m data1   \u001b[0m\u001b[1m data2   \u001b[0m\u001b[1m data3   \u001b[0m\u001b[1m data4   \u001b[0m\u001b[1m data5   \u001b[0m\u001b[1m data6   \u001b[0m\n",
      "     │\u001b[90m Float64 \u001b[0m\u001b[90m Float64 \u001b[0m\u001b[90m Float64 \u001b[0m\u001b[90m Float64 \u001b[0m\u001b[90m Float64 \u001b[0m\u001b[90m Float64 \u001b[0m\n",
      "─────┼──────────────────────────────────────────────────────\n",
      "   9 │     3.0      1.0     -1.0      0.0      0.0      0.0]]\n"
     ]
    }
   ],
   "source": [
    "using CSV\n",
    "using DataFrames\n",
    "#importacion de datos\n",
    "\n",
    "data = DataFrame(CSV.File(\"data1.csv\"))\n",
    "\n",
    "filas= []\n",
    "\n",
    "for fila in eachrow(data)\n",
    "    push!(filas, fila)\n",
    "end\n",
    "x_data1 = filas[1]\n",
    "y_data1 = filas[2]\n",
    "z_data1 = filas[3]\n",
    "\n",
    "x_data2 = filas[4]\n",
    "y_data2 = filas[5]\n",
    "z_data2 = filas[6]\n",
    "\n",
    "a_1 = filas[7]\n",
    "a_2 = filas[8]\n",
    "a_3 = filas[9]\n",
    "A = ([[a_1], [a_2], [a_3]])\n",
    "b = filas[10]\n",
    "\n",
    "println(A)"
   ]
  },
  {
   "cell_type": "code",
   "execution_count": null,
   "id": "c2ed16f9-e50f-42a1-9cae-ae9c41cb6d1c",
   "metadata": {},
   "outputs": [],
   "source": []
  }
 ],
 "metadata": {
  "kernelspec": {
   "display_name": "Julia 1.10.3",
   "language": "julia",
   "name": "julia-1.10"
  },
  "language_info": {
   "file_extension": ".jl",
   "mimetype": "application/julia",
   "name": "julia",
   "version": "1.10.3"
  }
 },
 "nbformat": 4,
 "nbformat_minor": 5
}
